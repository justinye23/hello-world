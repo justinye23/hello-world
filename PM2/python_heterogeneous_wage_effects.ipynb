{
  "cells": [
    {
      "cell_type": "markdown",
      "metadata": {
        "id": "Z4jKiGPB__ke",
        "papermill": {
          "duration": 0.011184,
          "end_time": "2021-02-28T17:17:25.882205",
          "exception": false,
          "start_time": "2021-02-28T17:17:25.871021",
          "status": "completed"
        },
        "tags": []
      },
      "source": [
        "# Application: Heterogeneous Effect of Sex on Wage Using Double Lasso\n",
        "\n",
        "We use US census data from the year 2015 to analyse the effect of gender and interaction effects of other variables with gender on wage jointly. The dependent variable is the logarithm of the wage, the target variable is *female* (in combination with other variables). All other variables denote some other socio-economic characteristics, e.g. marital status, education, and experience.  \n",
        "\n",
        "\n",
        "\n",
        "This analysis allows a closer look how the gender wage gap is related to other socio-economic variables.\n"
      ]
    },
    {
      "cell_type": "code",
      "execution_count": null,
      "metadata": {
        "id": "hfOxxCgf__kc"
      },
      "outputs": [],
      "source": [
        "# Import relevant packages\n",
        "import pandas as pd\n",
        "import numpy as np\n",
        "from scipy.stats import norm\n",
        "from sklearn.linear_model import LinearRegression\n",
        "import patsy\n",
        "import warnings\n",
        "warnings.simplefilter('ignore')\n",
        "np.random.seed(1234)"
      ]
    },
    {
      "cell_type": "code",
      "execution_count": null,
      "metadata": {
        "id": "mn-ywPJb__kf"
      },
      "outputs": [],
      "source": [
        "file = \"https://raw.githubusercontent.com/CausalAIBook/MetricsMLNotebooks/main/data/wage2015_subsample_inference.csv\"\n",
        "data = pd.read_csv(file)"
      ]
    },
    {
      "cell_type": "code",
      "execution_count": null,
      "metadata": {
        "id": "JjAg9We1__kf"
      },
      "outputs": [],
      "source": [
        "data.describe()"
      ]
    },
    {
      "cell_type": "markdown",
      "metadata": {
        "id": "kvlmaeFU__kf"
      },
      "source": [
        "Define outcome and regressors"
      ]
    },
    {
      "cell_type": "code",
      "execution_count": 8,
      "metadata": {
        "colab": {
          "base_uri": "https://localhost:8080/"
        },
        "id": "FheFuCL1__kg",
        "outputId": "bfc93e8c-536f-44c4-82ce-c1a90928bac6"
      },
      "outputs": [
        {
          "output_type": "execute_result",
          "data": {
            "text/plain": [
              "Index(['sex', 'shs', 'hsg', 'scl', 'clg', 'ad', 'mw', 'so', 'we', 'ne', 'exp1',\n",
              "       'exp2', 'exp3', 'exp4', 'occ', 'occ2', 'ind', 'ind2'],\n",
              "      dtype='object')"
            ]
          },
          "metadata": {},
          "execution_count": 8
        }
      ],
      "source": [
        "y = np.log(data['wage']).values\n",
        "Z = data.drop(['wage', 'lwage'], axis=1)\n",
        "Z.columns"
      ]
    },
    {
      "cell_type": "markdown",
      "metadata": {
        "id": "g2vGrvdJ__kg"
      },
      "source": [
        "## Feature Engineering"
      ]
    },
    {
      "cell_type": "markdown",
      "metadata": {
        "id": "JxlhqsDs__kg"
      },
      "source": [
        "Construct all our control variables"
      ]
    },
    {
      "cell_type": "code",
      "execution_count": 9,
      "metadata": {
        "id": "tjA6vrOf__kg",
        "outputId": "4bcc6e69-672c-4a54-d604-44d7d355e302",
        "colab": {
          "base_uri": "https://localhost:8080/",
          "height": 454
        }
      },
      "outputs": [
        {
          "output_type": "execute_result",
          "data": {
            "text/plain": [
              "         C(occ2)[1]    C(occ2)[2]    C(occ2)[3]    C(occ2)[4]    C(occ2)[5]  \\\n",
              "count  5.150000e+03  5.150000e+03  5.150000e+03  5.150000e+03  5.150000e+03   \n",
              "mean   8.968015e-18 -1.388318e-17  7.933244e-18 -2.759389e-18  1.379695e-18   \n",
              "std    3.215556e-01  2.452604e-01  2.039887e-01  1.419958e-01  1.182224e-01   \n",
              "min   -1.170874e-01 -6.427184e-02 -4.349515e-02 -2.058252e-02 -1.417476e-02   \n",
              "25%   -1.170874e-01 -6.427184e-02 -4.349515e-02 -2.058252e-02 -1.417476e-02   \n",
              "50%   -1.170874e-01 -6.427184e-02 -4.349515e-02 -2.058252e-02 -1.417476e-02   \n",
              "75%   -1.170874e-01 -6.427184e-02 -4.349515e-02 -2.058252e-02 -1.417476e-02   \n",
              "max    8.829126e-01  9.357282e-01  9.565049e-01  9.794175e-01  9.858252e-01   \n",
              "\n",
              "         C(occ2)[6]    C(occ2)[7]    C(occ2)[8]    C(occ2)[9]   C(occ2)[10]  \\\n",
              "count  5.150000e+03  5.150000e+03  5.150000e+03  5.150000e+03  5.150000e+03   \n",
              "mean   4.828931e-18 -4.139084e-18  1.431433e-17 -2.759389e-18  1.138248e-17   \n",
              "std    1.508723e-01  1.324702e-01  2.232981e-01  1.637613e-01  2.346088e-01   \n",
              "min   -2.330097e-02 -1.786408e-02 -5.262136e-02 -2.757282e-02 -5.844660e-02   \n",
              "25%   -2.330097e-02 -1.786408e-02 -5.262136e-02 -2.757282e-02 -5.844660e-02   \n",
              "50%   -2.330097e-02 -1.786408e-02 -5.262136e-02 -2.757282e-02 -5.844660e-02   \n",
              "75%   -2.330097e-02 -1.786408e-02 -5.262136e-02 -2.757282e-02 -5.844660e-02   \n",
              "max    9.766990e-01  9.821359e-01  9.473786e-01  9.724272e-01  9.415534e-01   \n",
              "\n",
              "       ...      we:exp1       we:exp2       we:exp3      we:exp4  \\\n",
              "count  ...  5150.000000  5.150000e+03  5.150000e+03  5150.000000   \n",
              "mean   ...     0.000000 -4.415023e-17 -3.532018e-15     0.000000   \n",
              "std    ...     7.451711  2.200512e+00  7.370775e+00    26.078477   \n",
              "min    ...    -2.979903 -6.439704e-01 -1.736658e+00    -5.256010   \n",
              "25%    ...    -2.979903 -6.439704e-01 -1.736658e+00    -5.256010   \n",
              "50%    ...    -2.979903 -6.439704e-01 -1.736658e+00    -5.256010   \n",
              "75%    ...    -2.979903 -6.439704e-01 -1.736658e+00    -5.256010   \n",
              "max    ...    39.020097  1.699603e+01  7.235134e+01   305.913590   \n",
              "\n",
              "          exp1:exp2     exp1:exp3     exp1:exp4     exp2:exp3     exp2:exp4  \\\n",
              "count  5.150000e+03  5.150000e+03  5.150000e+03  5.150000e+03  5.150000e+03   \n",
              "mean  -3.046366e-13 -6.735559e-13 -5.036658e-12  6.341739e-13 -9.819011e-14   \n",
              "std    1.448896e+02  5.353022e+02  2.025738e+03  2.025738e+02  7.834032e+02   \n",
              "min   -8.235867e+01 -2.511804e+02 -8.174739e+02 -8.174739e+01 -2.777188e+02   \n",
              "25%   -8.110867e+01 -2.505554e+02 -8.171614e+02 -8.171614e+01 -2.777031e+02   \n",
              "50%   -7.235867e+01 -2.411804e+02 -8.074739e+02 -8.074739e+01 -2.767188e+02   \n",
              "75%    1.025133e+01 -5.669938e+01 -4.090638e+02 -4.090638e+01 -1.919526e+02   \n",
              "max    9.558713e+02  4.628501e+03  2.211703e+04  2.211703e+03  1.050150e+04   \n",
              "\n",
              "          exp3:exp4  \n",
              "count  5.150000e+03  \n",
              "mean  -4.385354e-12  \n",
              "std    3.088170e+03  \n",
              "min   -9.734162e+02  \n",
              "25%   -9.734084e+02  \n",
              "50%   -9.724162e+02  \n",
              "75%   -7.933074e+02  \n",
              "max    4.968890e+04  \n",
              "\n",
              "[8 rows x 979 columns]"
            ],
            "text/html": [
              "\n",
              "  <div id=\"df-95850167-5e75-4077-852c-024964206cab\" class=\"colab-df-container\">\n",
              "    <div>\n",
              "<style scoped>\n",
              "    .dataframe tbody tr th:only-of-type {\n",
              "        vertical-align: middle;\n",
              "    }\n",
              "\n",
              "    .dataframe tbody tr th {\n",
              "        vertical-align: top;\n",
              "    }\n",
              "\n",
              "    .dataframe thead th {\n",
              "        text-align: right;\n",
              "    }\n",
              "</style>\n",
              "<table border=\"1\" class=\"dataframe\">\n",
              "  <thead>\n",
              "    <tr style=\"text-align: right;\">\n",
              "      <th></th>\n",
              "      <th>C(occ2)[1]</th>\n",
              "      <th>C(occ2)[2]</th>\n",
              "      <th>C(occ2)[3]</th>\n",
              "      <th>C(occ2)[4]</th>\n",
              "      <th>C(occ2)[5]</th>\n",
              "      <th>C(occ2)[6]</th>\n",
              "      <th>C(occ2)[7]</th>\n",
              "      <th>C(occ2)[8]</th>\n",
              "      <th>C(occ2)[9]</th>\n",
              "      <th>C(occ2)[10]</th>\n",
              "      <th>...</th>\n",
              "      <th>we:exp1</th>\n",
              "      <th>we:exp2</th>\n",
              "      <th>we:exp3</th>\n",
              "      <th>we:exp4</th>\n",
              "      <th>exp1:exp2</th>\n",
              "      <th>exp1:exp3</th>\n",
              "      <th>exp1:exp4</th>\n",
              "      <th>exp2:exp3</th>\n",
              "      <th>exp2:exp4</th>\n",
              "      <th>exp3:exp4</th>\n",
              "    </tr>\n",
              "  </thead>\n",
              "  <tbody>\n",
              "    <tr>\n",
              "      <th>count</th>\n",
              "      <td>5.150000e+03</td>\n",
              "      <td>5.150000e+03</td>\n",
              "      <td>5.150000e+03</td>\n",
              "      <td>5.150000e+03</td>\n",
              "      <td>5.150000e+03</td>\n",
              "      <td>5.150000e+03</td>\n",
              "      <td>5.150000e+03</td>\n",
              "      <td>5.150000e+03</td>\n",
              "      <td>5.150000e+03</td>\n",
              "      <td>5.150000e+03</td>\n",
              "      <td>...</td>\n",
              "      <td>5150.000000</td>\n",
              "      <td>5.150000e+03</td>\n",
              "      <td>5.150000e+03</td>\n",
              "      <td>5150.000000</td>\n",
              "      <td>5.150000e+03</td>\n",
              "      <td>5.150000e+03</td>\n",
              "      <td>5.150000e+03</td>\n",
              "      <td>5.150000e+03</td>\n",
              "      <td>5.150000e+03</td>\n",
              "      <td>5.150000e+03</td>\n",
              "    </tr>\n",
              "    <tr>\n",
              "      <th>mean</th>\n",
              "      <td>8.968015e-18</td>\n",
              "      <td>-1.388318e-17</td>\n",
              "      <td>7.933244e-18</td>\n",
              "      <td>-2.759389e-18</td>\n",
              "      <td>1.379695e-18</td>\n",
              "      <td>4.828931e-18</td>\n",
              "      <td>-4.139084e-18</td>\n",
              "      <td>1.431433e-17</td>\n",
              "      <td>-2.759389e-18</td>\n",
              "      <td>1.138248e-17</td>\n",
              "      <td>...</td>\n",
              "      <td>0.000000</td>\n",
              "      <td>-4.415023e-17</td>\n",
              "      <td>-3.532018e-15</td>\n",
              "      <td>0.000000</td>\n",
              "      <td>-3.046366e-13</td>\n",
              "      <td>-6.735559e-13</td>\n",
              "      <td>-5.036658e-12</td>\n",
              "      <td>6.341739e-13</td>\n",
              "      <td>-9.819011e-14</td>\n",
              "      <td>-4.385354e-12</td>\n",
              "    </tr>\n",
              "    <tr>\n",
              "      <th>std</th>\n",
              "      <td>3.215556e-01</td>\n",
              "      <td>2.452604e-01</td>\n",
              "      <td>2.039887e-01</td>\n",
              "      <td>1.419958e-01</td>\n",
              "      <td>1.182224e-01</td>\n",
              "      <td>1.508723e-01</td>\n",
              "      <td>1.324702e-01</td>\n",
              "      <td>2.232981e-01</td>\n",
              "      <td>1.637613e-01</td>\n",
              "      <td>2.346088e-01</td>\n",
              "      <td>...</td>\n",
              "      <td>7.451711</td>\n",
              "      <td>2.200512e+00</td>\n",
              "      <td>7.370775e+00</td>\n",
              "      <td>26.078477</td>\n",
              "      <td>1.448896e+02</td>\n",
              "      <td>5.353022e+02</td>\n",
              "      <td>2.025738e+03</td>\n",
              "      <td>2.025738e+02</td>\n",
              "      <td>7.834032e+02</td>\n",
              "      <td>3.088170e+03</td>\n",
              "    </tr>\n",
              "    <tr>\n",
              "      <th>min</th>\n",
              "      <td>-1.170874e-01</td>\n",
              "      <td>-6.427184e-02</td>\n",
              "      <td>-4.349515e-02</td>\n",
              "      <td>-2.058252e-02</td>\n",
              "      <td>-1.417476e-02</td>\n",
              "      <td>-2.330097e-02</td>\n",
              "      <td>-1.786408e-02</td>\n",
              "      <td>-5.262136e-02</td>\n",
              "      <td>-2.757282e-02</td>\n",
              "      <td>-5.844660e-02</td>\n",
              "      <td>...</td>\n",
              "      <td>-2.979903</td>\n",
              "      <td>-6.439704e-01</td>\n",
              "      <td>-1.736658e+00</td>\n",
              "      <td>-5.256010</td>\n",
              "      <td>-8.235867e+01</td>\n",
              "      <td>-2.511804e+02</td>\n",
              "      <td>-8.174739e+02</td>\n",
              "      <td>-8.174739e+01</td>\n",
              "      <td>-2.777188e+02</td>\n",
              "      <td>-9.734162e+02</td>\n",
              "    </tr>\n",
              "    <tr>\n",
              "      <th>25%</th>\n",
              "      <td>-1.170874e-01</td>\n",
              "      <td>-6.427184e-02</td>\n",
              "      <td>-4.349515e-02</td>\n",
              "      <td>-2.058252e-02</td>\n",
              "      <td>-1.417476e-02</td>\n",
              "      <td>-2.330097e-02</td>\n",
              "      <td>-1.786408e-02</td>\n",
              "      <td>-5.262136e-02</td>\n",
              "      <td>-2.757282e-02</td>\n",
              "      <td>-5.844660e-02</td>\n",
              "      <td>...</td>\n",
              "      <td>-2.979903</td>\n",
              "      <td>-6.439704e-01</td>\n",
              "      <td>-1.736658e+00</td>\n",
              "      <td>-5.256010</td>\n",
              "      <td>-8.110867e+01</td>\n",
              "      <td>-2.505554e+02</td>\n",
              "      <td>-8.171614e+02</td>\n",
              "      <td>-8.171614e+01</td>\n",
              "      <td>-2.777031e+02</td>\n",
              "      <td>-9.734084e+02</td>\n",
              "    </tr>\n",
              "    <tr>\n",
              "      <th>50%</th>\n",
              "      <td>-1.170874e-01</td>\n",
              "      <td>-6.427184e-02</td>\n",
              "      <td>-4.349515e-02</td>\n",
              "      <td>-2.058252e-02</td>\n",
              "      <td>-1.417476e-02</td>\n",
              "      <td>-2.330097e-02</td>\n",
              "      <td>-1.786408e-02</td>\n",
              "      <td>-5.262136e-02</td>\n",
              "      <td>-2.757282e-02</td>\n",
              "      <td>-5.844660e-02</td>\n",
              "      <td>...</td>\n",
              "      <td>-2.979903</td>\n",
              "      <td>-6.439704e-01</td>\n",
              "      <td>-1.736658e+00</td>\n",
              "      <td>-5.256010</td>\n",
              "      <td>-7.235867e+01</td>\n",
              "      <td>-2.411804e+02</td>\n",
              "      <td>-8.074739e+02</td>\n",
              "      <td>-8.074739e+01</td>\n",
              "      <td>-2.767188e+02</td>\n",
              "      <td>-9.724162e+02</td>\n",
              "    </tr>\n",
              "    <tr>\n",
              "      <th>75%</th>\n",
              "      <td>-1.170874e-01</td>\n",
              "      <td>-6.427184e-02</td>\n",
              "      <td>-4.349515e-02</td>\n",
              "      <td>-2.058252e-02</td>\n",
              "      <td>-1.417476e-02</td>\n",
              "      <td>-2.330097e-02</td>\n",
              "      <td>-1.786408e-02</td>\n",
              "      <td>-5.262136e-02</td>\n",
              "      <td>-2.757282e-02</td>\n",
              "      <td>-5.844660e-02</td>\n",
              "      <td>...</td>\n",
              "      <td>-2.979903</td>\n",
              "      <td>-6.439704e-01</td>\n",
              "      <td>-1.736658e+00</td>\n",
              "      <td>-5.256010</td>\n",
              "      <td>1.025133e+01</td>\n",
              "      <td>-5.669938e+01</td>\n",
              "      <td>-4.090638e+02</td>\n",
              "      <td>-4.090638e+01</td>\n",
              "      <td>-1.919526e+02</td>\n",
              "      <td>-7.933074e+02</td>\n",
              "    </tr>\n",
              "    <tr>\n",
              "      <th>max</th>\n",
              "      <td>8.829126e-01</td>\n",
              "      <td>9.357282e-01</td>\n",
              "      <td>9.565049e-01</td>\n",
              "      <td>9.794175e-01</td>\n",
              "      <td>9.858252e-01</td>\n",
              "      <td>9.766990e-01</td>\n",
              "      <td>9.821359e-01</td>\n",
              "      <td>9.473786e-01</td>\n",
              "      <td>9.724272e-01</td>\n",
              "      <td>9.415534e-01</td>\n",
              "      <td>...</td>\n",
              "      <td>39.020097</td>\n",
              "      <td>1.699603e+01</td>\n",
              "      <td>7.235134e+01</td>\n",
              "      <td>305.913590</td>\n",
              "      <td>9.558713e+02</td>\n",
              "      <td>4.628501e+03</td>\n",
              "      <td>2.211703e+04</td>\n",
              "      <td>2.211703e+03</td>\n",
              "      <td>1.050150e+04</td>\n",
              "      <td>4.968890e+04</td>\n",
              "    </tr>\n",
              "  </tbody>\n",
              "</table>\n",
              "<p>8 rows × 979 columns</p>\n",
              "</div>\n",
              "    <div class=\"colab-df-buttons\">\n",
              "\n",
              "  <div class=\"colab-df-container\">\n",
              "    <button class=\"colab-df-convert\" onclick=\"convertToInteractive('df-95850167-5e75-4077-852c-024964206cab')\"\n",
              "            title=\"Convert this dataframe to an interactive table.\"\n",
              "            style=\"display:none;\">\n",
              "\n",
              "  <svg xmlns=\"http://www.w3.org/2000/svg\" height=\"24px\" viewBox=\"0 -960 960 960\">\n",
              "    <path d=\"M120-120v-720h720v720H120Zm60-500h600v-160H180v160Zm220 220h160v-160H400v160Zm0 220h160v-160H400v160ZM180-400h160v-160H180v160Zm440 0h160v-160H620v160ZM180-180h160v-160H180v160Zm440 0h160v-160H620v160Z\"/>\n",
              "  </svg>\n",
              "    </button>\n",
              "\n",
              "  <style>\n",
              "    .colab-df-container {\n",
              "      display:flex;\n",
              "      gap: 12px;\n",
              "    }\n",
              "\n",
              "    .colab-df-convert {\n",
              "      background-color: #E8F0FE;\n",
              "      border: none;\n",
              "      border-radius: 50%;\n",
              "      cursor: pointer;\n",
              "      display: none;\n",
              "      fill: #1967D2;\n",
              "      height: 32px;\n",
              "      padding: 0 0 0 0;\n",
              "      width: 32px;\n",
              "    }\n",
              "\n",
              "    .colab-df-convert:hover {\n",
              "      background-color: #E2EBFA;\n",
              "      box-shadow: 0px 1px 2px rgba(60, 64, 67, 0.3), 0px 1px 3px 1px rgba(60, 64, 67, 0.15);\n",
              "      fill: #174EA6;\n",
              "    }\n",
              "\n",
              "    .colab-df-buttons div {\n",
              "      margin-bottom: 4px;\n",
              "    }\n",
              "\n",
              "    [theme=dark] .colab-df-convert {\n",
              "      background-color: #3B4455;\n",
              "      fill: #D2E3FC;\n",
              "    }\n",
              "\n",
              "    [theme=dark] .colab-df-convert:hover {\n",
              "      background-color: #434B5C;\n",
              "      box-shadow: 0px 1px 3px 1px rgba(0, 0, 0, 0.15);\n",
              "      filter: drop-shadow(0px 1px 2px rgba(0, 0, 0, 0.3));\n",
              "      fill: #FFFFFF;\n",
              "    }\n",
              "  </style>\n",
              "\n",
              "    <script>\n",
              "      const buttonEl =\n",
              "        document.querySelector('#df-95850167-5e75-4077-852c-024964206cab button.colab-df-convert');\n",
              "      buttonEl.style.display =\n",
              "        google.colab.kernel.accessAllowed ? 'block' : 'none';\n",
              "\n",
              "      async function convertToInteractive(key) {\n",
              "        const element = document.querySelector('#df-95850167-5e75-4077-852c-024964206cab');\n",
              "        const dataTable =\n",
              "          await google.colab.kernel.invokeFunction('convertToInteractive',\n",
              "                                                    [key], {});\n",
              "        if (!dataTable) return;\n",
              "\n",
              "        const docLinkHtml = 'Like what you see? Visit the ' +\n",
              "          '<a target=\"_blank\" href=https://colab.research.google.com/notebooks/data_table.ipynb>data table notebook</a>'\n",
              "          + ' to learn more about interactive tables.';\n",
              "        element.innerHTML = '';\n",
              "        dataTable['output_type'] = 'display_data';\n",
              "        await google.colab.output.renderOutput(dataTable, element);\n",
              "        const docLink = document.createElement('div');\n",
              "        docLink.innerHTML = docLinkHtml;\n",
              "        element.appendChild(docLink);\n",
              "      }\n",
              "    </script>\n",
              "  </div>\n",
              "\n",
              "\n",
              "<div id=\"df-120c8ebc-2256-4ac5-9f5b-361696a1f8cf\">\n",
              "  <button class=\"colab-df-quickchart\" onclick=\"quickchart('df-120c8ebc-2256-4ac5-9f5b-361696a1f8cf')\"\n",
              "            title=\"Suggest charts\"\n",
              "            style=\"display:none;\">\n",
              "\n",
              "<svg xmlns=\"http://www.w3.org/2000/svg\" height=\"24px\"viewBox=\"0 0 24 24\"\n",
              "     width=\"24px\">\n",
              "    <g>\n",
              "        <path d=\"M19 3H5c-1.1 0-2 .9-2 2v14c0 1.1.9 2 2 2h14c1.1 0 2-.9 2-2V5c0-1.1-.9-2-2-2zM9 17H7v-7h2v7zm4 0h-2V7h2v10zm4 0h-2v-4h2v4z\"/>\n",
              "    </g>\n",
              "</svg>\n",
              "  </button>\n",
              "\n",
              "<style>\n",
              "  .colab-df-quickchart {\n",
              "      --bg-color: #E8F0FE;\n",
              "      --fill-color: #1967D2;\n",
              "      --hover-bg-color: #E2EBFA;\n",
              "      --hover-fill-color: #174EA6;\n",
              "      --disabled-fill-color: #AAA;\n",
              "      --disabled-bg-color: #DDD;\n",
              "  }\n",
              "\n",
              "  [theme=dark] .colab-df-quickchart {\n",
              "      --bg-color: #3B4455;\n",
              "      --fill-color: #D2E3FC;\n",
              "      --hover-bg-color: #434B5C;\n",
              "      --hover-fill-color: #FFFFFF;\n",
              "      --disabled-bg-color: #3B4455;\n",
              "      --disabled-fill-color: #666;\n",
              "  }\n",
              "\n",
              "  .colab-df-quickchart {\n",
              "    background-color: var(--bg-color);\n",
              "    border: none;\n",
              "    border-radius: 50%;\n",
              "    cursor: pointer;\n",
              "    display: none;\n",
              "    fill: var(--fill-color);\n",
              "    height: 32px;\n",
              "    padding: 0;\n",
              "    width: 32px;\n",
              "  }\n",
              "\n",
              "  .colab-df-quickchart:hover {\n",
              "    background-color: var(--hover-bg-color);\n",
              "    box-shadow: 0 1px 2px rgba(60, 64, 67, 0.3), 0 1px 3px 1px rgba(60, 64, 67, 0.15);\n",
              "    fill: var(--button-hover-fill-color);\n",
              "  }\n",
              "\n",
              "  .colab-df-quickchart-complete:disabled,\n",
              "  .colab-df-quickchart-complete:disabled:hover {\n",
              "    background-color: var(--disabled-bg-color);\n",
              "    fill: var(--disabled-fill-color);\n",
              "    box-shadow: none;\n",
              "  }\n",
              "\n",
              "  .colab-df-spinner {\n",
              "    border: 2px solid var(--fill-color);\n",
              "    border-color: transparent;\n",
              "    border-bottom-color: var(--fill-color);\n",
              "    animation:\n",
              "      spin 1s steps(1) infinite;\n",
              "  }\n",
              "\n",
              "  @keyframes spin {\n",
              "    0% {\n",
              "      border-color: transparent;\n",
              "      border-bottom-color: var(--fill-color);\n",
              "      border-left-color: var(--fill-color);\n",
              "    }\n",
              "    20% {\n",
              "      border-color: transparent;\n",
              "      border-left-color: var(--fill-color);\n",
              "      border-top-color: var(--fill-color);\n",
              "    }\n",
              "    30% {\n",
              "      border-color: transparent;\n",
              "      border-left-color: var(--fill-color);\n",
              "      border-top-color: var(--fill-color);\n",
              "      border-right-color: var(--fill-color);\n",
              "    }\n",
              "    40% {\n",
              "      border-color: transparent;\n",
              "      border-right-color: var(--fill-color);\n",
              "      border-top-color: var(--fill-color);\n",
              "    }\n",
              "    60% {\n",
              "      border-color: transparent;\n",
              "      border-right-color: var(--fill-color);\n",
              "    }\n",
              "    80% {\n",
              "      border-color: transparent;\n",
              "      border-right-color: var(--fill-color);\n",
              "      border-bottom-color: var(--fill-color);\n",
              "    }\n",
              "    90% {\n",
              "      border-color: transparent;\n",
              "      border-bottom-color: var(--fill-color);\n",
              "    }\n",
              "  }\n",
              "</style>\n",
              "\n",
              "  <script>\n",
              "    async function quickchart(key) {\n",
              "      const quickchartButtonEl =\n",
              "        document.querySelector('#' + key + ' button');\n",
              "      quickchartButtonEl.disabled = true;  // To prevent multiple clicks.\n",
              "      quickchartButtonEl.classList.add('colab-df-spinner');\n",
              "      try {\n",
              "        const charts = await google.colab.kernel.invokeFunction(\n",
              "            'suggestCharts', [key], {});\n",
              "      } catch (error) {\n",
              "        console.error('Error during call to suggestCharts:', error);\n",
              "      }\n",
              "      quickchartButtonEl.classList.remove('colab-df-spinner');\n",
              "      quickchartButtonEl.classList.add('colab-df-quickchart-complete');\n",
              "    }\n",
              "    (() => {\n",
              "      let quickchartButtonEl =\n",
              "        document.querySelector('#df-120c8ebc-2256-4ac5-9f5b-361696a1f8cf button');\n",
              "      quickchartButtonEl.style.display =\n",
              "        google.colab.kernel.accessAllowed ? 'block' : 'none';\n",
              "    })();\n",
              "  </script>\n",
              "</div>\n",
              "\n",
              "    </div>\n",
              "  </div>\n"
            ],
            "application/vnd.google.colaboratory.intrinsic+json": {
              "type": "dataframe"
            }
          },
          "metadata": {},
          "execution_count": 9
        }
      ],
      "source": [
        "# Ultra flexible controls of all pair-wise interactions (around 1k variables); un-comment to run this\n",
        "Zcontrols = patsy.dmatrix('0 + (shs+hsg+scl+clg+C(occ2)+C(ind2)+mw+so+we+exp1+exp2+exp3+exp4)**2',\n",
        "                          Z, return_type='dataframe')\n",
        "\n",
        "Zcontrols = Zcontrols - Zcontrols.mean(axis=0)\n",
        "Zcontrols.describe()"
      ]
    },
    {
      "cell_type": "markdown",
      "metadata": {
        "id": "hD36OSyb__kg"
      },
      "source": [
        "Construct all the variables that we will use to model heterogeneity of effect in a linear manner"
      ]
    },
    {
      "cell_type": "code",
      "execution_count": null,
      "metadata": {
        "id": "DNPlH_rs__kh"
      },
      "outputs": [],
      "source": [
        "Zhet = patsy.dmatrix('0 + (shs+hsg+scl+clg+mw+so+we+exp1+exp2+exp3+exp4)',\n",
        "                     Z, return_type='dataframe')\n",
        "Zhet = Zhet - Zhet.mean(axis=0)"
      ]
    },
    {
      "cell_type": "markdown",
      "metadata": {
        "id": "woskUlaj__kh"
      },
      "source": [
        "Construct all interaction variables between sex and heterogeneity variables"
      ]
    },
    {
      "cell_type": "code",
      "execution_count": 7,
      "metadata": {
        "id": "kNsQotu6__kh"
      },
      "outputs": [],
      "source": [
        "Zhet['sex'] = Z['sex']\n",
        "Zinteractions = patsy.dmatrix('0 + sex + sex * (shs+hsg+scl+clg+mw+so+we+exp1+exp2+exp3+exp4)',\n",
        "                              Zhet, return_type='dataframe')\n",
        "interaction_cols = [c for c in Zinteractions.columns if c.startswith('sex')]"
      ]
    },
    {
      "cell_type": "markdown",
      "metadata": {
        "id": "-iMb_R87__ki"
      },
      "source": [
        "Put all the variables together"
      ]
    },
    {
      "cell_type": "code",
      "execution_count": null,
      "metadata": {
        "id": "bzFOlDdw__ki"
      },
      "outputs": [],
      "source": [
        "X = pd.concat([Zinteractions, Zcontrols], axis=1)\n",
        "X.shape"
      ]
    },
    {
      "cell_type": "markdown",
      "metadata": {
        "id": "dJDCw_Zc__ki"
      },
      "source": [
        "## Double Lasso for All Interactive Effects"
      ]
    },
    {
      "cell_type": "markdown",
      "metadata": {
        "id": "vQvJnv-v__ki"
      },
      "source": [
        "We use \"plug-in\" tuning with a theoretically valid choice of penalty $\\lambda = 2 \\cdot c \\hat{\\sigma}\\sqrt{n}  \\Phi^{-1}(1-\\alpha/2p)$, where $c>1$ and $1-\\alpha$ is a confidence level, and $\\Phi^{-1}$ denotes the quantile function. This choice ensures that the Lasso predictor is well behaved under independence as long as appropriate penalty weights are used.\n",
        "\n",
        "In practice, many people choose to use cross-validation, which is perfectly fine for predictive tasks. However, when conducting inference, to make our analysis valid we will require cross-fitting in addition to cross-validation. As we have not yet discussed cross-fitting, we rely on this theoretically-driven penalty in order to allow for accurate inference in the upcoming notebooks.\n",
        "\n",
        "Note: In the book, we multiply by $\\sqrt{n}$. This is because there, Lasso minimizes the sum of errors. If you were using say sklearn's Lasso whose objective minimizes the average errors, you would instead divide by $\\sqrt{n}$."
      ]
    },
    {
      "cell_type": "markdown",
      "metadata": {
        "id": "6eV_tNex__km"
      },
      "source": [
        "To estimate lasso using the theoretically motivated penalty level, we just use the hdmpy package. To install it run\n",
        "```\n",
        "!pip install multiprocess\n",
        "!git clone https://github.com/maxhuppertz/hdmpy.git\n",
        "```\n",
        "\n",
        "You can run the cells below and then repeat the whole analysis above using the newly defined `lasso_model` variable."
      ]
    },
    {
      "cell_type": "code",
      "execution_count": null,
      "metadata": {
        "id": "M9ihHr7DodEA"
      },
      "outputs": [],
      "source": [
        "!pip install multiprocess\n",
        "!git clone https://github.com/maxhuppertz/hdmpy.git"
      ]
    },
    {
      "cell_type": "code",
      "execution_count": null,
      "metadata": {
        "id": "acQhFTC0__km"
      },
      "outputs": [],
      "source": [
        "import sys\n",
        "sys.path.insert(1, \"./hdmpy\")"
      ]
    },
    {
      "cell_type": "code",
      "execution_count": null,
      "metadata": {
        "id": "awA9uVQc__km"
      },
      "outputs": [],
      "source": [
        "# We wrap the package so that it has the familiar sklearn API\n",
        "import hdmpy\n",
        "from sklearn.base import BaseEstimator\n",
        "\n",
        "\n",
        "class RLasso(BaseEstimator):\n",
        "\n",
        "    def __init__(self, *, post=True):\n",
        "        self.post = post\n",
        "\n",
        "    def fit(self, X, y):\n",
        "        self.rlasso_ = hdmpy.rlasso(X, y, post=self.post)\n",
        "        return self\n",
        "\n",
        "    def predict(self, X):\n",
        "        return np.array(X) @ np.array(self.rlasso_.est['beta']).flatten() + np.array(self.rlasso_.est['intercept'])\n",
        "\n",
        "\n",
        "def lasso_model():\n",
        "    return RLasso(post=False)"
      ]
    },
    {
      "cell_type": "code",
      "execution_count": null,
      "metadata": {
        "id": "OBmzPIRZ__ks"
      },
      "outputs": [],
      "source": [
        "alpha = {}\n",
        "res_y, res_D, epsilon = {}, {}, {}\n",
        "for c in interaction_cols:\n",
        "    print(f\"Double Lasso for target variable {c}\")\n",
        "    D = X[c].values\n",
        "    W = X.drop([c], axis=1)\n",
        "    res_y[c] = y - lasso_model().fit(W, y).predict(W)\n",
        "    res_D[c] = D - lasso_model().fit(W, D).predict(W)\n",
        "    final = LinearRegression(fit_intercept=False).fit(res_D[c].reshape(-1, 1), res_y[c])\n",
        "    epsilon[c] = res_y[c] - final.predict(res_D[c].reshape(-1, 1))\n",
        "    alpha[c] = [final.coef_[0]]\n",
        "\n",
        "# Calculate the covariance matrix of the estimated parameters\n",
        "V = np.zeros((len(interaction_cols), len(interaction_cols)))\n",
        "for it, c in enumerate(interaction_cols):\n",
        "    Jc = np.mean(res_D[c]**2)\n",
        "    for itp, cp in enumerate(interaction_cols):\n",
        "        Jcp = np.mean(res_D[cp]**2)\n",
        "        Sigma = np.mean(res_D[c] * epsilon[c] * epsilon[cp] * res_D[cp])\n",
        "        V[it, itp] = Sigma / (Jc * Jcp)\n",
        "\n",
        "# Calculate standard errors for each parameter\n",
        "n = X.shape[0]\n",
        "for it, c in enumerate(interaction_cols):\n",
        "    alpha[c] += [np.sqrt(V[it, it] / n)]\n",
        "\n",
        "# put all in a dataframe\n",
        "df = pd.DataFrame.from_dict(alpha, orient='index', columns=['point', 'stderr'])\n",
        "\n",
        "# Calculate and pointwise p-value\n",
        "summary = pd.DataFrame()\n",
        "summary['Estimate'] = df['point']\n",
        "summary['Std. Error'] = df['stderr']\n",
        "summary['p-value'] = norm.sf(np.abs(df['point'] / df['stderr']), loc=0, scale=1) * 2\n",
        "summary['ci_lower'] = df['point'] - 1.96 * df['stderr']\n",
        "summary['ci_upper'] = df['point'] + 1.96 * df['stderr']\n",
        "summary"
      ]
    },
    {
      "cell_type": "markdown",
      "metadata": {
        "id": "DcW2A3JTMBiv"
      },
      "source": [
        "### Joint Confidence Intervals"
      ]
    },
    {
      "cell_type": "code",
      "execution_count": null,
      "metadata": {
        "id": "IPClP_jTeZlr"
      },
      "outputs": [],
      "source": [
        "Drootinv = np.diagflat(1 / np.sqrt(np.diag(V)))\n",
        "scaledCov = Drootinv @ V @ Drootinv\n",
        "np.random.seed(123)\n",
        "U = np.random.multivariate_normal(np.zeros(scaledCov.shape[0]), scaledCov, size=10000)\n",
        "z = np.max(np.abs(U), axis=1)\n",
        "c = np.percentile(z, 95)\n",
        "\n",
        "summary = pd.DataFrame()\n",
        "summary['Estimate'] = df['point']\n",
        "summary['CI lower'] = df['point'] - c * df['stderr']\n",
        "summary['CI upper'] = df['point'] + c * df['stderr']\n",
        "summary"
      ]
    }
  ],
  "metadata": {
    "colab": {
      "provenance": []
    },
    "kernelspec": {
      "display_name": "Python 3 (ipykernel)",
      "language": "python",
      "name": "python3"
    },
    "language_info": {
      "codemirror_mode": {
        "name": "ipython",
        "version": 3
      },
      "file_extension": ".py",
      "mimetype": "text/x-python",
      "name": "python",
      "nbconvert_exporter": "python",
      "pygments_lexer": "ipython3",
      "version": "3.11.5"
    },
    "papermill": {
      "default_parameters": {},
      "duration": 89.365707,
      "end_time": "2021-02-28T17:18:51.003711",
      "environment_variables": {},
      "exception": null,
      "input_path": "__notebook__.ipynb",
      "output_path": "__notebook__.ipynb",
      "parameters": {},
      "start_time": "2021-02-28T17:17:21.638004",
      "version": "2.2.2"
    }
  },
  "nbformat": 4,
  "nbformat_minor": 0
}